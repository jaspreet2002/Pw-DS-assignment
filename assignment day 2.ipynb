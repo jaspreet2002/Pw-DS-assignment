{
 "cells": [
  {
   "cell_type": "markdown",
   "id": "5f508dcb-083d-48ec-a6db-71c0e776511d",
   "metadata": {},
   "source": [
    "1. Write a Python program to reverse a string without using any built-in string reversal functions.\n"
   ]
  },
  {
   "cell_type": "code",
   "execution_count": 1,
   "id": "63f055de-e2a7-4abd-b340-2a3b0bd81cb6",
   "metadata": {},
   "outputs": [
    {
     "name": "stdout",
     "output_type": "stream",
     "text": [
      "!dlroW ,olleH\n"
     ]
    }
   ],
   "source": [
    "def reverse_string(input_string):\n",
    "    reversed_string = \"\"\n",
    "    for i in range(len(input_string) - 1, -1, -1):\n",
    "        reversed_string += input_string[i]\n",
    "    return reversed_string\n",
    "\n",
    "# Example usage\n",
    "string = \"Hello, World!\"\n",
    "reversed_string = reverse_string(string)\n",
    "print(reversed_string)"
   ]
  },
  {
   "cell_type": "markdown",
   "id": "f7670c98-0616-42da-83a6-a5e1a4de77ba",
   "metadata": {},
   "source": [
    "2. Implement a function to check if a given string is a palindrome.\n"
   ]
  },
  {
   "cell_type": "code",
   "execution_count": 3,
   "id": "20591151-6358-4aac-9c2e-6f111fa7ee62",
   "metadata": {},
   "outputs": [
    {
     "name": "stdout",
     "output_type": "stream",
     "text": [
      "False\n",
      "False\n"
     ]
    }
   ],
   "source": [
    "def is_palindrome(input_string):\n",
    "    # Remove whitespace and convert to lowercase\n",
    "    input_string = input_string.replace(\" \", \"\").lower()\n",
    "    # Check if the reversed string is equal to the original string\n",
    "    return input_string == input_string[::-1]\n",
    "\n",
    "# Example usage\n",
    "string = \"Madam Arora teaches malayalam\"\n",
    "print(is_palindrome(string))  # Output: False\n",
    "\n",
    "string = \"Hello, World!\"\n",
    "print(is_palindrome(string))  # Output: False\n"
   ]
  },
  {
   "cell_type": "markdown",
   "id": "247e9ed8-5dbe-46b6-bf74-195094e2d94e",
   "metadata": {},
   "source": [
    "3. Write a program to find the largest element in a given list.\n"
   ]
  },
  {
   "cell_type": "code",
   "execution_count": 4,
   "id": "b73eaf46-3d1a-41c8-8007-a0d12f40c66a",
   "metadata": {},
   "outputs": [
    {
     "name": "stdout",
     "output_type": "stream",
     "text": [
      "21\n"
     ]
    }
   ],
   "source": [
    "def find_largest_element(lst):\n",
    "    if len(lst) == 0:\n",
    "        return None\n",
    "    largest = lst[0]\n",
    "    for num in lst:\n",
    "        if num > largest:\n",
    "            largest = num\n",
    "    return largest\n",
    "\n",
    "# Example usage\n",
    "numbers = [10, 4, 7, 15, 2, 9, 21]\n",
    "largest_number = find_largest_element(numbers)\n",
    "print(largest_number)  # Output: 21\n"
   ]
  },
  {
   "cell_type": "markdown",
   "id": "ea828ea0-47a2-4b46-aade-9aac42a8f2cb",
   "metadata": {},
   "source": [
    "4. Implement a function to count the occurrence of each element in a list.\n"
   ]
  },
  {
   "cell_type": "code",
   "execution_count": 5,
   "id": "79291ec8-4794-457f-ae5b-08c038f0fa38",
   "metadata": {},
   "outputs": [
    {
     "name": "stdout",
     "output_type": "stream",
     "text": [
      "{1: 3, 2: 3, 3: 1, 4: 1, 5: 1}\n"
     ]
    }
   ],
   "source": [
    "def count_occurrences(lst):\n",
    "    occurrences = {}\n",
    "    for element in lst:\n",
    "        if element in occurrences:\n",
    "            occurrences[element] += 1\n",
    "        else:\n",
    "            occurrences[element] = 1\n",
    "    return occurrences\n",
    "\n",
    "# Example usage\n",
    "numbers = [1, 2, 3, 2, 1, 4, 5, 1, 2]\n",
    "occurrences = count_occurrences(numbers)\n",
    "print(occurrences)\n"
   ]
  },
  {
   "cell_type": "markdown",
   "id": "b7f50b86-084a-44b8-ad06-f0bee1d55260",
   "metadata": {},
   "source": [
    "5. Write a Python program to find the second largest number in a list.\n"
   ]
  },
  {
   "cell_type": "code",
   "execution_count": 8,
   "id": "99d220d4-ee5b-443f-aa14-29d16d8a55f0",
   "metadata": {},
   "outputs": [
    {
     "name": "stdout",
     "output_type": "stream",
     "text": [
      "15\n"
     ]
    }
   ],
   "source": [
    "def find_second_largest(lst):\n",
    "    if len(lst) < 2:\n",
    "        return None  # Return None if the list has less than 2 elements\n",
    "    largest = lst[0]  # Assume the first element is the largest\n",
    "    second_largest = float('-inf')  # Initialize second_largest to negative infinity\n",
    "    for num in lst:\n",
    "        if num > largest:\n",
    "            second_largest = largest  # Update second_largest to current largest\n",
    "            largest = num  # Update largest to the new maximum number\n",
    "        elif num > second_largest and num < largest:\n",
    "            second_largest = num  # Update second_largest if the number is greater than the current second_largest but smaller than the largest\n",
    "    return second_largest  # Return the second largest number\n",
    "\n",
    "# Example usage\n",
    "numbers = [10, 4, 7, 15, 2, 9, 21]\n",
    "second_largest_number = find_second_largest(numbers)\n",
    "print(second_largest_number)  # Output: 15\n"
   ]
  },
  {
   "cell_type": "markdown",
   "id": "e38081fb-ed8d-4e33-9135-49fa7b53a717",
   "metadata": {},
   "source": [
    "6. Implement a function to remove duplicate elements from a list.\n"
   ]
  },
  {
   "cell_type": "code",
   "execution_count": 9,
   "id": "7c5614d7-8b8b-4f5b-b7ca-882b85cd7c8a",
   "metadata": {},
   "outputs": [
    {
     "name": "stdout",
     "output_type": "stream",
     "text": [
      "[1, 2, 3, 4, 5]\n"
     ]
    }
   ],
   "source": [
    "def remove_duplicates(lst):\n",
    "    # Convert the list to a set to remove duplicates\n",
    "    # Sets automatically eliminate duplicate elements\n",
    "    unique_set = set(lst)\n",
    "    \n",
    "    # Convert the set back to a list to restore the original order of elements\n",
    "    unique_list = list(unique_set)\n",
    "    \n",
    "    # Return the list without duplicates\n",
    "    return unique_list\n",
    "\n",
    "# Example usage\n",
    "numbers = [1, 2, 3, 2, 1, 4, 5, 1, 2]\n",
    "unique_numbers = remove_duplicates(numbers)\n",
    "print(unique_numbers)\n"
   ]
  },
  {
   "cell_type": "markdown",
   "id": "201f7979-f283-4032-8d85-e897f2ee9b74",
   "metadata": {},
   "source": [
    "7. Write a program to calculate the factorial of a given number.\n"
   ]
  },
  {
   "cell_type": "code",
   "execution_count": 10,
   "id": "88a3215e-0285-4c14-9c07-e1140c3f3c5a",
   "metadata": {},
   "outputs": [
    {
     "name": "stdout",
     "output_type": "stream",
     "text": [
      "The factorial of 5 is: 120\n"
     ]
    }
   ],
   "source": [
    "def factorial(n):\n",
    "    if n == 0:\n",
    "        return 1  # Return 1 as the base case for factorial(0)\n",
    "    else:\n",
    "        # Recursive call to factorial function\n",
    "        # Multiply the current number (n) with the factorial of (n-1)\n",
    "        return n * factorial(n - 1)\n",
    "\n",
    "# Example usage\n",
    "number = 5\n",
    "result = factorial(number)\n",
    "print(f\"The factorial of {number} is: {result}\")\n"
   ]
  },
  {
   "cell_type": "markdown",
   "id": "76026136-2239-44b6-b7fa-5068b0462e43",
   "metadata": {},
   "source": [
    "8. Implement a function to check if a given number is prime.\n"
   ]
  },
  {
   "cell_type": "code",
   "execution_count": 11,
   "id": "d976c059-1504-4462-9546-625df575583f",
   "metadata": {},
   "outputs": [
    {
     "name": "stdout",
     "output_type": "stream",
     "text": [
      "17 is a prime number.\n"
     ]
    }
   ],
   "source": [
    "def is_prime(number):\n",
    "    if number <= 1:\n",
    "        return False  # Numbers less than or equal to 1 are not prime\n",
    "    for i in range(2, int(number**0.5) + 1):\n",
    "        if number % i == 0:\n",
    "            return False  # If the number is divisible by any number in the range, it's not prime\n",
    "    return True  # If the number is not divisible by any number in the range, it's prime\n",
    "\n",
    "# Example usage\n",
    "num = 17\n",
    "if is_prime(num):\n",
    "    print(f\"{num} is a prime number.\")\n",
    "else:\n",
    "    print(f\"{num} is not a prime number.\")\n"
   ]
  },
  {
   "cell_type": "markdown",
   "id": "1650804c-2808-4384-9c73-6a3c78b474ce",
   "metadata": {},
   "source": [
    "9. Write a Python program to sort a list of integers in ascending order.\n"
   ]
  },
  {
   "cell_type": "code",
   "execution_count": 12,
   "id": "01096be5-f0ac-44b6-9097-534671e92ac0",
   "metadata": {},
   "outputs": [
    {
     "name": "stdout",
     "output_type": "stream",
     "text": [
      "Sorted list: [1, 2, 3, 5, 7, 9]\n"
     ]
    }
   ],
   "source": [
    "def quicksort(arr):\n",
    "    if len(arr) <= 1:\n",
    "        return arr\n",
    "    pivot = arr[len(arr) // 2]\n",
    "    left = [x for x in arr if x < pivot]\n",
    "    middle = [x for x in arr if x == pivot]\n",
    "    right = [x for x in arr if x > pivot]\n",
    "    return quicksort(left) + middle + quicksort(right)\n",
    "\n",
    "# Example usage\n",
    "numbers = [5, 2, 9, 1, 7, 3]\n",
    "sorted_numbers = quicksort(numbers)\n",
    "print(\"Sorted list:\", sorted_numbers)\n"
   ]
  },
  {
   "cell_type": "markdown",
   "id": "488539da-75a4-4685-86ae-3060a506e972",
   "metadata": {},
   "source": [
    "10. Implement a function to find the sum of all numbers in a list.\n"
   ]
  },
  {
   "cell_type": "code",
   "execution_count": 13,
   "id": "261f34b8-5ae4-4264-9df0-33e12344da42",
   "metadata": {},
   "outputs": [
    {
     "name": "stdout",
     "output_type": "stream",
     "text": [
      "Sum of numbers: 15\n"
     ]
    }
   ],
   "source": [
    "def find_sum(numbers):\n",
    "    total = 0\n",
    "    for num in numbers:\n",
    "        total += num\n",
    "    return total\n",
    "\n",
    "# Example usage\n",
    "my_list = [1, 2, 3, 4, 5]\n",
    "result = find_sum(my_list)\n",
    "print(\"Sum of numbers:\", result)\n"
   ]
  },
  {
   "cell_type": "markdown",
   "id": "23f36b0c-6ab8-4514-aee0-22c1f649914b",
   "metadata": {},
   "source": [
    "11. Write a program to find the common elements between two lists.\n"
   ]
  },
  {
   "cell_type": "code",
   "execution_count": 14,
   "id": "283fafb2-b12e-4e5c-997f-c529f9618ff6",
   "metadata": {},
   "outputs": [
    {
     "name": "stdout",
     "output_type": "stream",
     "text": [
      "Common elements: [4, 5]\n"
     ]
    }
   ],
   "source": [
    "def find_common_elements(list1, list2):\n",
    "    common_elements = []\n",
    "    for element in list1:\n",
    "        if element in list2:\n",
    "            common_elements.append(element)\n",
    "    return common_elements\n",
    "\n",
    "# Example usage\n",
    "list1 = [1, 2, 3, 4, 5]\n",
    "list2 = [4, 5, 6, 7, 8]\n",
    "common_elements = find_common_elements(list1, list2)\n",
    "print(\"Common elements:\", common_elements)\n"
   ]
  },
  {
   "cell_type": "markdown",
   "id": "b72ceebf-a911-41dd-b8c3-f5a9f5942c08",
   "metadata": {},
   "source": [
    "12. Implement a function to check if a given string is an anagram of another string.\n"
   ]
  },
  {
   "cell_type": "code",
   "execution_count": 15,
   "id": "99344955-b5d9-468b-a578-cc73618b5aef",
   "metadata": {},
   "outputs": [
    {
     "name": "stdout",
     "output_type": "stream",
     "text": [
      "listen and silent are anagrams.\n"
     ]
    }
   ],
   "source": [
    "def is_anagram(string1, string2):\n",
    "    if len(string1) != len(string2):\n",
    "        return False\n",
    "    sorted_string1 = sorted(string1.lower())\n",
    "    sorted_string2 = sorted(string2.lower())\n",
    "    return sorted_string1 == sorted_string2\n",
    "\n",
    "# Example usage\n",
    "str1 = \"listen\"\n",
    "str2 = \"silent\"\n",
    "if is_anagram(str1, str2):\n",
    "    print(f\"{str1} and {str2} are anagrams.\")\n",
    "else:\n",
    "    print(f\"{str1} and {str2} are not anagrams.\")\n"
   ]
  },
  {
   "cell_type": "markdown",
   "id": "0e9e1526-459e-4ff8-a5d1-a9f2dbfbca21",
   "metadata": {},
   "source": [
    "13. Write a Python program to generate all permutations of a given string.\n"
   ]
  },
  {
   "cell_type": "code",
   "execution_count": 16,
   "id": "41fe0d3a-a97f-40cc-8089-439697f13483",
   "metadata": {},
   "outputs": [
    {
     "name": "stdout",
     "output_type": "stream",
     "text": [
      "Permutations of abc : ['abc', 'acb', 'bac', 'bca', 'cab', 'cba']\n"
     ]
    }
   ],
   "source": [
    "def generate_permutations(string):\n",
    "    # Base case: if the string has only one character, return it as the only permutation\n",
    "    if len(string) == 1:\n",
    "        return [string]\n",
    "\n",
    "    # Recursive case: generate permutations for the string by selecting each character as the first character\n",
    "    permutations = []\n",
    "    for i in range(len(string)):\n",
    "        first_char = string[i]\n",
    "        remaining_chars = string[:i] + string[i+1:]\n",
    "        # Generate permutations for the remaining characters\n",
    "        for permutation in generate_permutations(remaining_chars):\n",
    "            permutations.append(first_char + permutation)\n",
    "\n",
    "    return permutations\n",
    "\n",
    "# Example usage\n",
    "input_string = \"abc\"\n",
    "permutations = generate_permutations(input_string)\n",
    "print(\"Permutations of\", input_string, \":\", permutations)\n"
   ]
  },
  {
   "cell_type": "markdown",
   "id": "61fc17fb-92a4-4ce0-9721-b373d5bab35d",
   "metadata": {},
   "source": [
    "14. Implement a function to calculate the Fibonacci sequence up to a given number of terms.\n"
   ]
  },
  {
   "cell_type": "code",
   "execution_count": 17,
   "id": "e6c8a6c5-4804-46ec-99ab-feb610090b0d",
   "metadata": {},
   "outputs": [
    {
     "name": "stdout",
     "output_type": "stream",
     "text": [
      "Fibonacci sequence up to 10 terms: [0, 1, 1, 2, 3, 5, 8, 13, 21, 34]\n"
     ]
    }
   ],
   "source": [
    "def fibonacci_sequence(n):\n",
    "    sequence = []\n",
    "    if n >= 1:\n",
    "        sequence.append(0)\n",
    "    if n >= 2:\n",
    "        sequence.append(1)\n",
    "    if n > 2:\n",
    "        for i in range(2, n):\n",
    "            sequence.append(sequence[i-1] + sequence[i-2])\n",
    "    return sequence\n",
    "\n",
    "# Example usage\n",
    "num_terms = 10\n",
    "fib_sequence = fibonacci_sequence(num_terms)\n",
    "print(\"Fibonacci sequence up to\", num_terms, \"terms:\", fib_sequence)\n"
   ]
  },
  {
   "cell_type": "markdown",
   "id": "bc1a4cad-56fb-4157-98e9-886a7982656a",
   "metadata": {},
   "source": [
    "15. Write a program to find the median of a list of numbers.\n"
   ]
  },
  {
   "cell_type": "code",
   "execution_count": 18,
   "id": "f749dd5e-6174-4e62-8b57-5b53c40589c6",
   "metadata": {},
   "outputs": [
    {
     "name": "stdout",
     "output_type": "stream",
     "text": [
      "Median: 4.0\n"
     ]
    }
   ],
   "source": [
    "def find_median(numbers):\n",
    "    sorted_numbers = sorted(numbers)\n",
    "    n = len(sorted_numbers)\n",
    "    if n % 2 == 0:\n",
    "        mid1 = n // 2\n",
    "        mid2 = mid1 - 1\n",
    "        median = (sorted_numbers[mid1] + sorted_numbers[mid2]) / 2\n",
    "    else:\n",
    "        mid = n // 2\n",
    "        median = sorted_numbers[mid]\n",
    "    return median\n",
    "\n",
    "# Example usage\n",
    "number_list = [7, 2, 5, 1, 9, 3]\n",
    "median = find_median(number_list)\n",
    "print(\"Median:\", median)\n"
   ]
  },
  {
   "cell_type": "markdown",
   "id": "98c9d3c7-55f8-46f0-9322-6ac5127f1c44",
   "metadata": {},
   "source": [
    "16. Implement a function to check if a given list is sorted in non-decreasing order.\n"
   ]
  },
  {
   "cell_type": "code",
   "execution_count": 20,
   "id": "daf83faf-c595-4a62-ae9d-2ac713ea5c38",
   "metadata": {},
   "outputs": [
    {
     "name": "stdout",
     "output_type": "stream",
     "text": [
      "List 1 is sorted: True\n",
      "List 2 is sorted: False\n"
     ]
    }
   ],
   "source": [
    "def is_sorted(numbers):\n",
    "    n = len(numbers)\n",
    "    for i in range(1, n):\n",
    "        if numbers[i] < numbers[i - 1]:\n",
    "            return False\n",
    "    return True\n",
    "\n",
    "# Example usage\n",
    "num_list1 = [1, 2, 3, 4, 5]\n",
    "num_list2 = [7, 2, 5, 1, 9, 3]\n",
    "\n",
    "print(\"List 1 is sorted:\", is_sorted(num_list1))\n",
    "print(\"List 2 is sorted:\", is_sorted(num_list2))\n"
   ]
  },
  {
   "cell_type": "markdown",
   "id": "27036acd-cbf2-4624-be0e-6e5b3df2bd7b",
   "metadata": {},
   "source": [
    "17. Write a Python program to find the intersection of two lists.\n"
   ]
  },
  {
   "cell_type": "code",
   "execution_count": 22,
   "id": "83c24067-589e-4283-b648-01b98b7143ec",
   "metadata": {},
   "outputs": [
    {
     "name": "stdout",
     "output_type": "stream",
     "text": [
      "Intersection: [4, 5]\n"
     ]
    }
   ],
   "source": [
    "def find_intersection(list1, list2):\n",
    "    intersection = []\n",
    "    for item in list1:\n",
    "        if item in list2 and item not in intersection:\n",
    "            intersection.append(item)\n",
    "    return intersection\n",
    "\n",
    "# Example usage\n",
    "list1 = [1, 2, 3, 4, 5]\n",
    "list2 = [4, 5, 6, 7, 8]\n",
    "\n",
    "intersection = find_intersection(list1, list2)\n",
    "print(\"Intersection:\", intersection)\n"
   ]
  },
  {
   "cell_type": "markdown",
   "id": "1b3ee2af-0a1b-43de-a20f-9a05dd0907ec",
   "metadata": {},
   "source": [
    "18. Implement a function to find the maximum subarray sum in a given list.\n"
   ]
  },
  {
   "cell_type": "code",
   "execution_count": 23,
   "id": "dab17a18-2510-4c5f-a1a2-b5ad5464fecf",
   "metadata": {},
   "outputs": [
    {
     "name": "stdout",
     "output_type": "stream",
     "text": [
      "Maximum subarray sum: 6\n"
     ]
    }
   ],
   "source": [
    "def find_max_subarray_sum(nums):\n",
    "    if not nums:\n",
    "        return 0\n",
    "\n",
    "    current_sum = max_sum = nums[0]\n",
    "\n",
    "    for num in nums[1:]:\n",
    "        current_sum = max(num, current_sum + num)\n",
    "        max_sum = max(max_sum, current_sum)\n",
    "\n",
    "    return max_sum\n",
    "\n",
    "# Example usage\n",
    "number_list = [-2, 1, -3, 4, -1, 2, 1, -5, 4]\n",
    "max_sum = find_max_subarray_sum(number_list)\n",
    "print(\"Maximum subarray sum:\", max_sum)\n"
   ]
  },
  {
   "cell_type": "markdown",
   "id": "9ad6d7b3-5300-422e-a6e4-34ea7798d51e",
   "metadata": {},
   "source": [
    "19. Write a program to remove all vowels from a given string.\n"
   ]
  },
  {
   "cell_type": "code",
   "execution_count": 24,
   "id": "5a2f15a6-2a09-47e2-b26a-c0767d2454e0",
   "metadata": {},
   "outputs": [
    {
     "name": "stdout",
     "output_type": "stream",
     "text": [
      "Original String: Hello, World!\n",
      "String without Vowels: Hll, Wrld!\n"
     ]
    }
   ],
   "source": [
    "def remove_vowels(string):\n",
    "    vowels = \"aeiouAEIOU\"\n",
    "    result = \"\"\n",
    "    for char in string:\n",
    "        if char not in vowels:\n",
    "            result += char\n",
    "    return result\n",
    "\n",
    "# Example usage\n",
    "input_string = \"Hello, World!\"\n",
    "result_string = remove_vowels(input_string)\n",
    "print(\"Original String:\", input_string)\n",
    "print(\"String without Vowels:\", result_string)\n"
   ]
  },
  {
   "cell_type": "markdown",
   "id": "04fcd7c8-bb7a-42af-82e9-1e064dda6a32",
   "metadata": {},
   "source": [
    "20. Implement a function to reverse the order of words in a given sentence.\n"
   ]
  },
  {
   "cell_type": "code",
   "execution_count": 25,
   "id": "b54aa512-f1c4-4e29-9ca0-4a5dbae145cd",
   "metadata": {},
   "outputs": [
    {
     "name": "stdout",
     "output_type": "stream",
     "text": [
      "Original Sentence: Hello, world! Welcome to Python.\n",
      "Reversed Sentence: Python. to Welcome world! Hello,\n"
     ]
    }
   ],
   "source": [
    "def reverse_words(sentence):\n",
    "    words = sentence.split()\n",
    "    reversed_words = words[::-1]\n",
    "    reversed_sentence = ' '.join(reversed_words)\n",
    "    return reversed_sentence\n",
    "\n",
    "# Example usage\n",
    "input_sentence = \"Hello, world! Welcome to Python.\"\n",
    "reversed_sentence = reverse_words(input_sentence)\n",
    "print(\"Original Sentence:\", input_sentence)\n",
    "print(\"Reversed Sentence:\", reversed_sentence)\n"
   ]
  },
  {
   "cell_type": "markdown",
   "id": "e445b3f6-52e2-4e50-82e5-294b3626b6ac",
   "metadata": {},
   "source": [
    "21. Write a Python program to check if two strings are anagrams of each other.\n"
   ]
  },
  {
   "cell_type": "code",
   "execution_count": 26,
   "id": "92705711-4faf-4e05-9f7c-5fffdfa4294e",
   "metadata": {},
   "outputs": [
    {
     "name": "stdout",
     "output_type": "stream",
     "text": [
      "The strings are anagrams.\n"
     ]
    }
   ],
   "source": [
    "def are_anagrams(str1, str2):\n",
    "    # Convert both strings to lowercase and remove spaces\n",
    "    str1 = str1.lower().replace(\" \", \"\")\n",
    "    str2 = str2.lower().replace(\" \", \"\")\n",
    "\n",
    "    # Check if the lengths of both strings are equal\n",
    "    if len(str1) != len(str2):\n",
    "        return False\n",
    "\n",
    "    # Create dictionaries to store character counts\n",
    "    char_count_str1 = {}\n",
    "    char_count_str2 = {}\n",
    "\n",
    "    # Count the occurrences of each character in the first string\n",
    "    for char in str1:\n",
    "        char_count_str1[char] = char_count_str1.get(char, 0) + 1\n",
    "\n",
    "    # Count the occurrences of each character in the second string\n",
    "    for char in str2:\n",
    "        char_count_str2[char] = char_count_str2.get(char, 0) + 1\n",
    "\n",
    "    # Compare the dictionaries to check if both strings are anagrams\n",
    "    return char_count_str1 == char_count_str2\n",
    "\n",
    "# Example usage\n",
    "string1 = \"listen\"\n",
    "string2 = \"silent\"\n",
    "if are_anagrams(string1, string2):\n",
    "    print(\"The strings are anagrams.\")\n",
    "else:\n",
    "    print(\"The strings are not anagrams.\")\n"
   ]
  },
  {
   "cell_type": "markdown",
   "id": "e2654a8f-d7bc-46e9-8fad-9320815fe31c",
   "metadata": {},
   "source": [
    "22. Implement a function to find the first non-repeating character in a string.\n"
   ]
  },
  {
   "cell_type": "code",
   "execution_count": 27,
   "id": "0826ef85-2549-4cb5-81a6-75c418ccac3a",
   "metadata": {},
   "outputs": [
    {
     "name": "stdout",
     "output_type": "stream",
     "text": [
      "The first non-repeating character is: h\n"
     ]
    }
   ],
   "source": [
    "def find_first_non_repeating_char(string):\n",
    "    char_count = {}\n",
    "    \n",
    "    # Count the occurrences of each character in the string\n",
    "    for char in string:\n",
    "        char_count[char] = char_count.get(char, 0) + 1\n",
    "    \n",
    "    # Find the first character with count = 1\n",
    "    for char in string:\n",
    "        if char_count[char] == 1:\n",
    "            return char\n",
    "    \n",
    "    # If no non-repeating character found, return None\n",
    "    return None\n",
    "\n",
    "# Example usage\n",
    "input_string = \"hello world\"\n",
    "result = find_first_non_repeating_char(input_string)\n",
    "if result:\n",
    "    print(\"The first non-repeating character is:\", result)\n",
    "else:\n",
    "    print(\"There are no non-repeating characters in the string.\")\n"
   ]
  },
  {
   "cell_type": "markdown",
   "id": "1f36bfd4-b134-4467-b799-a5d58ffb3d48",
   "metadata": {},
   "source": [
    "23. Write a program to find the prime factors of a given number.\n"
   ]
  },
  {
   "cell_type": "code",
   "execution_count": 28,
   "id": "ea8347db-e060-4c64-b22e-e7d50054c443",
   "metadata": {},
   "outputs": [
    {
     "name": "stdout",
     "output_type": "stream",
     "text": [
      "Prime factors of 56 are: [2, 2, 2, 7]\n"
     ]
    }
   ],
   "source": [
    "def find_prime_factors(num):\n",
    "    prime_factors = []\n",
    "    divisor = 2\n",
    "\n",
    "    while divisor <= num:\n",
    "        if num % divisor == 0:\n",
    "            prime_factors.append(divisor)\n",
    "            num = num // divisor\n",
    "        else:\n",
    "            divisor += 1\n",
    "\n",
    "    return prime_factors\n",
    "\n",
    "# Example usage\n",
    "number = 56\n",
    "result = find_prime_factors(number)\n",
    "print(\"Prime factors of\", number, \"are:\", result)\n"
   ]
  },
  {
   "cell_type": "markdown",
   "id": "d37d6371-4883-4fb2-b984-1dd4ef752d30",
   "metadata": {},
   "source": [
    "24. Implement a function to check if a given number is a power of two.\n"
   ]
  },
  {
   "cell_type": "code",
   "execution_count": 29,
   "id": "372b72d8-e62a-40be-a962-303439ffe482",
   "metadata": {},
   "outputs": [
    {
     "name": "stdout",
     "output_type": "stream",
     "text": [
      "16 is a power of two.\n"
     ]
    }
   ],
   "source": [
    "def is_power_of_two(num):\n",
    "    if num <= 0:\n",
    "        return False\n",
    "\n",
    "    # Check if the number is a power of two by bitwise AND operation\n",
    "    return (num & (num - 1)) == 0\n",
    "\n",
    "# Example usage\n",
    "number = 16\n",
    "result = is_power_of_two(number)\n",
    "if result:\n",
    "    print(number, \"is a power of two.\")\n",
    "else:\n",
    "    print(number, \"is not a power of two.\")\n"
   ]
  },
  {
   "cell_type": "markdown",
   "id": "87f3c721-03b5-4902-bc90-1e941d9fa09c",
   "metadata": {},
   "source": [
    "25. Write a Python program to merge two sorted lists into a single sorted list.\n"
   ]
  },
  {
   "cell_type": "code",
   "execution_count": 30,
   "id": "5403ad56-8115-46f1-b17b-98c44f666a41",
   "metadata": {},
   "outputs": [
    {
     "name": "stdout",
     "output_type": "stream",
     "text": [
      "Merged list: [1, 2, 3, 4, 5, 6, 7, 8, 9, 10]\n"
     ]
    }
   ],
   "source": [
    "def merge_sorted_lists(list1, list2):\n",
    "    merged_list = []\n",
    "    i = 0  # index for list1\n",
    "    j = 0  # index for list2\n",
    "\n",
    "    # Merge the two lists in sorted order\n",
    "    while i < len(list1) and j < len(list2):\n",
    "        if list1[i] < list2[j]:\n",
    "            merged_list.append(list1[i])\n",
    "            i += 1\n",
    "        else:\n",
    "            merged_list.append(list2[j])\n",
    "            j += 1\n",
    "\n",
    "    # Append the remaining elements of list1, if any\n",
    "    while i < len(list1):\n",
    "        merged_list.append(list1[i])\n",
    "        i += 1\n",
    "\n",
    "    # Append the remaining elements of list2, if any\n",
    "    while j < len(list2):\n",
    "        merged_list.append(list2[j])\n",
    "        j += 1\n",
    "\n",
    "    return merged_list\n",
    "\n",
    "# Example usage\n",
    "list1 = [1, 3, 5, 7, 9]\n",
    "list2 = [2, 4, 6, 8, 10]\n",
    "merged = merge_sorted_lists(list1, list2)\n",
    "print(\"Merged list:\", merged)\n"
   ]
  },
  {
   "cell_type": "markdown",
   "id": "e06a6b48-a5f8-4115-b543-418198658fc5",
   "metadata": {},
   "source": [
    "26. Implement a function to find the mode of a list of numbers.\n"
   ]
  },
  {
   "cell_type": "code",
   "execution_count": 31,
   "id": "e448dccc-3785-4bb0-a3c2-b88d4fc30bfe",
   "metadata": {},
   "outputs": [
    {
     "name": "stdout",
     "output_type": "stream",
     "text": [
      "Mode(s): [3]\n"
     ]
    }
   ],
   "source": [
    "def find_mode(numbers):\n",
    "    # Create a dictionary to store the frequency of each number\n",
    "    frequency = {}\n",
    "    \n",
    "    # Calculate the frequency of each number\n",
    "    for num in numbers:\n",
    "        if num in frequency:\n",
    "            frequency[num] += 1\n",
    "        else:\n",
    "            frequency[num] = 1\n",
    "    \n",
    "    # Find the number(s) with the highest frequency\n",
    "    max_frequency = max(frequency.values())\n",
    "    modes = [num for num, freq in frequency.items() if freq == max_frequency]\n",
    "    \n",
    "    return modes\n",
    "\n",
    "# Example usage\n",
    "numbers = [1, 2, 2, 3, 3, 3, 4, 4, 5]\n",
    "modes = find_mode(numbers)\n",
    "print(\"Mode(s):\", modes)\n"
   ]
  },
  {
   "cell_type": "markdown",
   "id": "38c22355-362a-4a49-bda0-0241a7da6e52",
   "metadata": {},
   "source": [
    "27. Write a program to find the greatest common divisor (GCD) of two numbers.\n"
   ]
  },
  {
   "cell_type": "code",
   "execution_count": 32,
   "id": "417f39da-0112-41a9-9526-eeea92ac570e",
   "metadata": {},
   "outputs": [
    {
     "name": "stdout",
     "output_type": "stream",
     "text": [
      "GCD of 48 and 60 is 12\n"
     ]
    }
   ],
   "source": [
    "def gcd(a, b):\n",
    "    # Ensure a is greater than or equal to b\n",
    "    if b > a:\n",
    "        a, b = b, a\n",
    "    \n",
    "    # Find the GCD using Euclidean algorithm\n",
    "    while b != 0:\n",
    "        a, b = b, a % b\n",
    "    \n",
    "    return a\n",
    "\n",
    "# Example usage\n",
    "num1 = 48\n",
    "num2 = 60\n",
    "result = gcd(num1, num2)\n",
    "print(\"GCD of\", num1, \"and\", num2, \"is\", result)\n"
   ]
  },
  {
   "cell_type": "markdown",
   "id": "fb356414-5a86-40be-8f45-437ed2a631ef",
   "metadata": {},
   "source": [
    "28. Implement a function to calculate the square root of a given number.\n"
   ]
  },
  {
   "cell_type": "code",
   "execution_count": 33,
   "id": "13fecfed-bab9-4cba-8d9e-72ffdc787762",
   "metadata": {},
   "outputs": [
    {
     "name": "stdout",
     "output_type": "stream",
     "text": [
      "Square root of 16 is 4.0\n"
     ]
    }
   ],
   "source": [
    "def sqrt(number):\n",
    "    if number < 0:\n",
    "        return \"Invalid input: Square root of a negative number is undefined.\"\n",
    "    elif number == 0:\n",
    "        return 0\n",
    "    \n",
    "    # Initial approximation of the square root\n",
    "    approx = number / 2\n",
    "    \n",
    "    # Use the Babylonian method to improve the approximation\n",
    "    while True:\n",
    "        better_approx = (approx + number / approx) / 2\n",
    "        if abs(approx - better_approx) < 1e-9:\n",
    "            break\n",
    "        approx = better_approx\n",
    "    \n",
    "    return better_approx\n",
    "\n",
    "# Example usage\n",
    "num = 16\n",
    "result = sqrt(num)\n",
    "print(\"Square root of\", num, \"is\", result)\n"
   ]
  },
  {
   "cell_type": "markdown",
   "id": "3a085ac4-fcc5-44ad-9172-9d6251150bce",
   "metadata": {},
   "source": [
    "29. Write a Python program to check if a given string is a valid palindrome ignoring non-alphanumeric characters.\n"
   ]
  },
  {
   "cell_type": "code",
   "execution_count": 34,
   "id": "17969fd1-f28b-4938-8876-ceae74c319ff",
   "metadata": {},
   "outputs": [
    {
     "name": "stdout",
     "output_type": "stream",
     "text": [
      "Is the string a valid palindrome? True\n"
     ]
    }
   ],
   "source": [
    "def is_valid_palindrome(string):\n",
    "    # Remove non-alphanumeric characters and convert to lowercase\n",
    "    cleaned_string = ''.join(char.lower() for char in string if char.isalnum())\n",
    "\n",
    "    # Check if the cleaned string is a palindrome\n",
    "    return cleaned_string == cleaned_string[::-1]\n",
    "\n",
    "# Example usage\n",
    "input_string = \"A man, a plan, a canal: Panama\"\n",
    "result = is_valid_palindrome(input_string)\n",
    "print(\"Is the string a valid palindrome?\", result)\n"
   ]
  },
  {
   "cell_type": "markdown",
   "id": "e89d1366-0397-42c1-bff6-db7087227140",
   "metadata": {},
   "source": [
    "30. Implement a function to find the minimum element in a rotated sorted list.\n"
   ]
  },
  {
   "cell_type": "code",
   "execution_count": 36,
   "id": "3b47b656-5f6a-4951-92e8-1328e7e1ff5d",
   "metadata": {},
   "outputs": [
    {
     "name": "stdout",
     "output_type": "stream",
     "text": [
      "The minimum element in the rotated sorted list is: 0\n"
     ]
    }
   ],
   "source": [
    "def find_min_in_rotated_sorted_list(nums):\n",
    "    left, right = 0, len(nums) - 1\n",
    "\n",
    "    while left < right:\n",
    "        mid = left + (right - left) // 2\n",
    "\n",
    "        # If the middle element is greater than the rightmost element,\n",
    "        # the minimum element must be in the right half of the list.\n",
    "        if nums[mid] > nums[right]:\n",
    "            left = mid + 1\n",
    "        # If the middle element is less than the rightmost element,\n",
    "        # the minimum element must be in the left half of the list.\n",
    "        elif nums[mid] < nums[right]:\n",
    "            right = mid\n",
    "        # If the middle element is equal to the rightmost element,\n",
    "        # it means the list has duplicate elements, and we need to exclude\n",
    "        # the rightmost element to proceed with the binary search.\n",
    "        else:\n",
    "            right -= 1\n",
    "\n",
    "    # At the end of the loop, left and right will be pointing to the minimum element.\n",
    "    return nums[left]\n",
    "\n",
    "# Example usage\n",
    "nums = [4, 5, 6, 7, 0, 1, 2]\n",
    "result = find_min_in_rotated_sorted_list(nums)\n",
    "print(\"The minimum element in the rotated sorted list is:\", result)\n"
   ]
  },
  {
   "cell_type": "markdown",
   "id": "6f04f917-8cdc-458e-9615-3c6679b332b7",
   "metadata": {},
   "source": [
    "31. Write a program to find the sum of all even numbers in a list.\n"
   ]
  },
  {
   "cell_type": "code",
   "execution_count": 37,
   "id": "a9186e2c-29bb-40b9-9d50-4466e697516d",
   "metadata": {},
   "outputs": [
    {
     "name": "stdout",
     "output_type": "stream",
     "text": [
      "The sum of even numbers in the list is: 30\n"
     ]
    }
   ],
   "source": [
    "def sum_of_even_numbers(numbers):\n",
    "    # Initialize a variable to store the sum of even numbers\n",
    "    sum_even = 0\n",
    "\n",
    "    # Iterate over each number in the list\n",
    "    for num in numbers:\n",
    "        # Check if the number is even\n",
    "        if num % 2 == 0:\n",
    "            # Add the even number to the sum\n",
    "            sum_even += num\n",
    "\n",
    "    return sum_even\n",
    "\n",
    "# Example usage\n",
    "numbers = [1, 2, 3, 4, 5, 6, 7, 8, 9, 10]\n",
    "result = sum_of_even_numbers(numbers)\n",
    "print(\"The sum of even numbers in the list is:\", result)\n"
   ]
  },
  {
   "cell_type": "markdown",
   "id": "6cffb490-2871-400b-973e-529c219f685a",
   "metadata": {},
   "source": [
    "32. Implement a function to calculate the power of a number using recursion.\n"
   ]
  },
  {
   "cell_type": "code",
   "execution_count": 38,
   "id": "e64bea8a-c3c9-43f5-9ddd-17e16a4ac766",
   "metadata": {},
   "outputs": [
    {
     "name": "stdout",
     "output_type": "stream",
     "text": [
      "2 raised to the power of 3 is: 8\n"
     ]
    }
   ],
   "source": [
    "def power(base, exponent):\n",
    "    # Base case: when exponent is 0, return 1\n",
    "    if exponent == 0:\n",
    "        return 1\n",
    "    # Recursive case: multiply base by the result of recursively calling power function\n",
    "    else:\n",
    "        return base * power(base, exponent - 1)\n",
    "\n",
    "# Example usage\n",
    "base = 2\n",
    "exponent = 3\n",
    "result = power(base, exponent)\n",
    "print(base, \"raised to the power of\", exponent, \"is:\", result)\n"
   ]
  },
  {
   "cell_type": "markdown",
   "id": "3f561add-d105-450a-a587-c0d360d2d9b0",
   "metadata": {},
   "source": [
    "33. Write a Python program to remove duplicates from a list while preserving the order.\n"
   ]
  },
  {
   "cell_type": "code",
   "execution_count": 39,
   "id": "70f21b39-a38c-4d61-93c0-8ce8c9eafa30",
   "metadata": {},
   "outputs": [
    {
     "name": "stdout",
     "output_type": "stream",
     "text": [
      "List with duplicates removed: [1, 2, 3, 4, 5]\n"
     ]
    }
   ],
   "source": [
    "def remove_duplicates(input_list):\n",
    "    # Create an empty list to store unique elements\n",
    "    unique_list = []\n",
    "\n",
    "    # Iterate over the original list\n",
    "    for element in input_list:\n",
    "        # Check if the element is already in the unique list\n",
    "        if element not in unique_list:\n",
    "            # Add the element to the unique list\n",
    "            unique_list.append(element)\n",
    "\n",
    "    return unique_list\n",
    "\n",
    "# Example usage\n",
    "my_list = [1, 2, 3, 2, 4, 1, 5, 3]\n",
    "result = remove_duplicates(my_list)\n",
    "print(\"List with duplicates removed:\", result)\n"
   ]
  },
  {
   "cell_type": "markdown",
   "id": "a5e340ed-5184-4362-b3f1-72aa90c822a0",
   "metadata": {},
   "source": [
    "34. Implement a function to find the longest common prefix among a list of strings.\n"
   ]
  },
  {
   "cell_type": "code",
   "execution_count": 40,
   "id": "e7194e96-2ef6-4011-b7d7-0bcf33b2c20c",
   "metadata": {},
   "outputs": [
    {
     "name": "stdout",
     "output_type": "stream",
     "text": [
      "Longest common prefix: fl\n"
     ]
    }
   ],
   "source": [
    "def longest_common_prefix(strings):\n",
    "    # If the list is empty, return an empty string\n",
    "    if not strings:\n",
    "        return \"\"\n",
    "\n",
    "    # Find the minimum length of all strings in the list\n",
    "    min_length = min(len(string) for string in strings)\n",
    "\n",
    "    # Initialize the common prefix variable\n",
    "    common_prefix = \"\"\n",
    "\n",
    "    # Iterate over the characters at each index up to the minimum length\n",
    "    for i in range(min_length):\n",
    "        # Get the character at index i from the first string\n",
    "        current_char = strings[0][i]\n",
    "\n",
    "        # Check if the character matches with the same index in other strings\n",
    "        for string in strings:\n",
    "            if string[i] != current_char:\n",
    "                # If there is a mismatch, return the common prefix found so far\n",
    "                return common_prefix\n",
    "\n",
    "        # If all characters at index i are the same, add it to the common prefix\n",
    "        common_prefix += current_char\n",
    "\n",
    "    return common_prefix\n",
    "\n",
    "# Example usage\n",
    "my_strings = [\"flower\", \"flow\", \"flight\"]\n",
    "result = longest_common_prefix(my_strings)\n",
    "print(\"Longest common prefix:\", result)\n"
   ]
  },
  {
   "cell_type": "markdown",
   "id": "9b1be804-820b-4ae8-958d-fd9980737013",
   "metadata": {},
   "source": [
    "35. Write a program to check if a given number is a perfect square.\n"
   ]
  },
  {
   "cell_type": "code",
   "execution_count": 41,
   "id": "58e1bfce-9f7f-4e13-aa22-fd972d4e534a",
   "metadata": {},
   "outputs": [
    {
     "name": "stdout",
     "output_type": "stream",
     "text": [
      "16 is a perfect square\n"
     ]
    }
   ],
   "source": [
    "import math\n",
    "\n",
    "def is_perfect_square(num):\n",
    "    # Find the square root of the number\n",
    "    square_root = math.sqrt(num)\n",
    "\n",
    "    # Check if the square root is an integer\n",
    "    if int(square_root) ** 2 == num:\n",
    "        return True\n",
    "    else:\n",
    "        return False\n",
    "\n",
    "# Example usage\n",
    "number = 16\n",
    "result = is_perfect_square(number)\n",
    "if result:\n",
    "    print(number, \"is a perfect square\")\n",
    "else:\n",
    "    print(number, \"is not a perfect square\")\n"
   ]
  },
  {
   "cell_type": "markdown",
   "id": "75167083-77dd-4b9e-8d9c-b606c067508a",
   "metadata": {},
   "source": [
    "36. Implement a function to calculate the product of all elements in a list.\n"
   ]
  },
  {
   "cell_type": "code",
   "execution_count": 42,
   "id": "83e86e67-661b-437b-8c01-9dd1ba2b1b44",
   "metadata": {},
   "outputs": [
    {
     "name": "stdout",
     "output_type": "stream",
     "text": [
      "The product of the numbers is: 120\n"
     ]
    }
   ],
   "source": [
    "def calculate_product(lst):\n",
    "    # Initialize the product as 1\n",
    "    product = 1\n",
    "    \n",
    "    # Multiply each element in the list with the product\n",
    "    for num in lst:\n",
    "        product *= num\n",
    "    \n",
    "    # Return the final product\n",
    "    return product\n",
    "\n",
    "# Example usage\n",
    "numbers = [2, 3, 4, 5]\n",
    "result = calculate_product(numbers)\n",
    "print(\"The product of the numbers is:\", result)\n"
   ]
  },
  {
   "cell_type": "markdown",
   "id": "fa0c23c1-755e-443a-a3a2-48481dec5c2e",
   "metadata": {},
   "source": [
    "37. Write a Python program to reverse the order of words in a sentence while preserving the word order.\n"
   ]
  },
  {
   "cell_type": "code",
   "execution_count": 43,
   "id": "ae40810e-d462-43d2-8d9c-c13a76a36e95",
   "metadata": {},
   "outputs": [
    {
     "name": "stdout",
     "output_type": "stream",
     "text": [
      "Original sentence: Hello, how are you today?\n",
      "Reversed sentence: today? you are how Hello,\n"
     ]
    }
   ],
   "source": [
    "def reverse_sentence(sentence):\n",
    "    # Split the sentence into words\n",
    "    words = sentence.split()\n",
    "    \n",
    "    # Reverse the order of the words\n",
    "    reversed_words = words[::-1]\n",
    "    \n",
    "    # Join the reversed words into a sentence\n",
    "    reversed_sentence = ' '.join(reversed_words)\n",
    "    \n",
    "    return reversed_sentence\n",
    "\n",
    "# Example usage\n",
    "sentence = \"Hello, how are you today?\"\n",
    "reversed_sentence = reverse_sentence(sentence)\n",
    "print(\"Original sentence:\", sentence)\n",
    "print(\"Reversed sentence:\", reversed_sentence)\n"
   ]
  },
  {
   "cell_type": "markdown",
   "id": "bb1878f2-b7c9-4a8e-ab76-b84163aef020",
   "metadata": {},
   "source": [
    "38. Implement a function to find the missing number in a given list of consecutive numbers.\n"
   ]
  },
  {
   "cell_type": "code",
   "execution_count": 44,
   "id": "49302039-54be-41be-8590-139de63b955d",
   "metadata": {},
   "outputs": [
    {
     "name": "stdout",
     "output_type": "stream",
     "text": [
      "The missing number is: 4\n"
     ]
    }
   ],
   "source": [
    "def find_missing_number(numbers):\n",
    "    # Calculate the expected sum of the consecutive numbers\n",
    "    n = len(numbers) + 1\n",
    "    expected_sum = (n * (n + 1)) // 2\n",
    "\n",
    "    # Calculate the actual sum of the list\n",
    "    actual_sum = sum(numbers)\n",
    "\n",
    "    # Find the missing number\n",
    "    missing_number = expected_sum - actual_sum\n",
    "\n",
    "    return missing_number\n",
    "\n",
    "# Example usage\n",
    "nums = [1, 2, 3, 5, 6, 7]\n",
    "missing_num = find_missing_number(nums)\n",
    "print(\"The missing number is:\", missing_num)\n"
   ]
  },
  {
   "cell_type": "markdown",
   "id": "ec2520fb-4bb7-4e4b-a19b-94969ff39917",
   "metadata": {},
   "source": [
    "39. Write a program to find the sum of digits of a given number.\n"
   ]
  },
  {
   "cell_type": "code",
   "execution_count": 45,
   "id": "fff29e7d-8d29-4535-a05a-4b219ef0126d",
   "metadata": {},
   "outputs": [
    {
     "name": "stdout",
     "output_type": "stream",
     "text": [
      "The sum of digits of 12345 is 15\n"
     ]
    }
   ],
   "source": [
    "def sum_of_digits(number):\n",
    "    # Initialize sum variable\n",
    "    digit_sum = 0\n",
    "\n",
    "    # Iterate through each digit of the number\n",
    "    while number > 0:\n",
    "        # Extract the rightmost digit using modulo 10\n",
    "        digit = number % 10\n",
    "\n",
    "        # Add the digit to the sum\n",
    "        digit_sum += digit\n",
    "\n",
    "        # Remove the rightmost digit from the number using integer division\n",
    "        number //= 10\n",
    "\n",
    "    return digit_sum\n",
    "\n",
    "# Example usage\n",
    "num = 12345\n",
    "result = sum_of_digits(num)\n",
    "print(\"The sum of digits of\", num, \"is\", result)\n"
   ]
  },
  {
   "cell_type": "markdown",
   "id": "1dabb5b8-d76c-4039-83d3-660736b28d7a",
   "metadata": {},
   "source": [
    "40. Implement a function to check if a given string is a valid palindrome considering case sensitivity.\n"
   ]
  },
  {
   "cell_type": "code",
   "execution_count": 48,
   "id": "33419d2d-4055-4211-a5ce-fbe53b5f2c4b",
   "metadata": {},
   "outputs": [
    {
     "name": "stdout",
     "output_type": "stream",
     "text": [
      "level is a palindrome.\n"
     ]
    }
   ],
   "source": [
    "def is_palindrome(string):\n",
    "    # Convert the string to lowercase\n",
    "    string = string.lower()\n",
    "\n",
    "    # Reverse the string\n",
    "    reversed_string = string[::-1]\n",
    "\n",
    "    # Check if the original and reversed strings are the same\n",
    "    if string == reversed_string:\n",
    "        return True\n",
    "    else:\n",
    "        return False\n",
    "\n",
    "# Example usage\n",
    "word = \"level\"\n",
    "result = is_palindrome(word)\n",
    "if result:\n",
    "    print(word, \"is a palindrome.\")\n",
    "else:\n",
    "    print(word, \"is not a palindrome.\")\n"
   ]
  },
  {
   "cell_type": "markdown",
   "id": "fff790d7-b1d1-4537-88e4-1bae50b77842",
   "metadata": {},
   "source": [
    "41. Write a Python program to find the smallest missing positive integer in a list.\n"
   ]
  },
  {
   "cell_type": "code",
   "execution_count": 49,
   "id": "870cff37-8100-429b-ac39-2b9c049057e3",
   "metadata": {},
   "outputs": [
    {
     "name": "stdout",
     "output_type": "stream",
     "text": [
      "The smallest missing positive integer is: 2\n"
     ]
    }
   ],
   "source": [
    "def find_smallest_missing_positive(nums):\n",
    "    # Create a set to store positive integers\n",
    "    positive_nums = set()\n",
    "\n",
    "    # Iterate through the list and add positive integers to the set\n",
    "    for num in nums:\n",
    "        if num > 0:\n",
    "            positive_nums.add(num)\n",
    "\n",
    "    # Find the smallest missing positive integer starting from 1\n",
    "    smallest_missing = 1\n",
    "    while smallest_missing in positive_nums:\n",
    "        smallest_missing += 1\n",
    "\n",
    "    return smallest_missing\n",
    "\n",
    "# Example usage\n",
    "numbers = [3, 4, -1, 1]\n",
    "result = find_smallest_missing_positive(numbers)\n",
    "print(\"The smallest missing positive integer is:\", result)\n"
   ]
  },
  {
   "cell_type": "markdown",
   "id": "ef0dc3a7-1ce7-41f0-a270-e74ccaab7d79",
   "metadata": {},
   "source": [
    "42. Implement a function to find the longest palindrome substring in a given string.\n"
   ]
  },
  {
   "cell_type": "code",
   "execution_count": 50,
   "id": "55402a5a-7aa0-4a85-bb03-92630f84c901",
   "metadata": {},
   "outputs": [
    {
     "name": "stdout",
     "output_type": "stream",
     "text": [
      "Longest palindrome substring: bab\n"
     ]
    }
   ],
   "source": [
    "def longest_palindrome_substring(s):\n",
    "    longest = \"\"\n",
    "    \n",
    "    # Helper function to check if a string is a palindrome\n",
    "    def is_palindrome(string):\n",
    "        return string == string[::-1]\n",
    "    \n",
    "    # Iterate through all possible substring lengths\n",
    "    for length in range(len(s), 0, -1):\n",
    "        # Iterate through all substrings of current length\n",
    "        for i in range(len(s) - length + 1):\n",
    "            substring = s[i:i+length]\n",
    "            if is_palindrome(substring) and len(substring) > len(longest):\n",
    "                longest = substring\n",
    "    \n",
    "    return longest\n",
    "\n",
    "# Example usage\n",
    "string = \"babad\"\n",
    "result = longest_palindrome_substring(string)\n",
    "print(\"Longest palindrome substring:\", result)\n"
   ]
  },
  {
   "cell_type": "markdown",
   "id": "ca6a794e-c59d-4d81-b186-cc6077a62c78",
   "metadata": {},
   "source": [
    "43. Write a program to find the number of occurrences of a given element in a list.\n"
   ]
  },
  {
   "cell_type": "code",
   "execution_count": 51,
   "id": "17f653f4-8be9-4332-8b84-4f4117c9ef0e",
   "metadata": {},
   "outputs": [
    {
     "name": "stdout",
     "output_type": "stream",
     "text": [
      "Number of occurrences: 3\n"
     ]
    }
   ],
   "source": [
    "def count_occurrences(lst, element):\n",
    "    count = 0\n",
    "    for item in lst:\n",
    "        if item == element:\n",
    "            count += 1\n",
    "    return count\n",
    "\n",
    "# Example usage\n",
    "my_list = [1, 2, 3, 2, 4, 2, 5]\n",
    "element = 2\n",
    "result = count_occurrences(my_list, element)\n",
    "print(\"Number of occurrences:\", result)\n"
   ]
  },
  {
   "cell_type": "markdown",
   "id": "d7b01e40-3d71-4a72-b243-3a0b1db747a1",
   "metadata": {},
   "source": [
    "44. Implement a function to check if a given number is a perfect number.\n"
   ]
  },
  {
   "cell_type": "code",
   "execution_count": 52,
   "id": "ddfe0bb9-d0c9-4902-bce6-7b7f486458b5",
   "metadata": {},
   "outputs": [
    {
     "name": "stdout",
     "output_type": "stream",
     "text": [
      "28 is a perfect number: True\n"
     ]
    }
   ],
   "source": [
    "def is_perfect_number(number):\n",
    "    if number <= 0:\n",
    "        return False\n",
    "    \n",
    "    divisor_sum = 0\n",
    "    for i in range(1, number):\n",
    "        if number % i == 0:\n",
    "            divisor_sum += i\n",
    "    \n",
    "    return divisor_sum == number\n",
    "\n",
    "# Example usage\n",
    "num = 28\n",
    "result = is_perfect_number(num)\n",
    "print(f\"{num} is a perfect number: {result}\")\n"
   ]
  },
  {
   "cell_type": "markdown",
   "id": "22b363f0-25f8-4db5-8ce5-574a78d2e70b",
   "metadata": {},
   "source": [
    "45. Write a Python program to remove all duplicates from a string."
   ]
  },
  {
   "cell_type": "code",
   "execution_count": 53,
   "id": "400bf9a5-b52b-487b-b0af-17539fd7134f",
   "metadata": {},
   "outputs": [
    {
     "name": "stdout",
     "output_type": "stream",
     "text": [
      "W Ho,ld!re\n"
     ]
    }
   ],
   "source": [
    "def remove_duplicates(string):\n",
    "    # Convert string to set to remove duplicates\n",
    "    unique_chars = set(string)\n",
    "    \n",
    "    # Convert set back to string\n",
    "    result = ''.join(unique_chars)\n",
    "    \n",
    "    return result\n",
    "\n",
    "# Example usage\n",
    "s = \"Hello, World!\"\n",
    "result = remove_duplicates(s)\n",
    "print(result)\n"
   ]
  },
  {
   "cell_type": "markdown",
   "id": "a31f2171-21ce-4f3d-8c94-2d3ffa87d48a",
   "metadata": {},
   "source": [
    "46. Implement a function to find the first missing positive\n"
   ]
  },
  {
   "cell_type": "code",
   "execution_count": 54,
   "id": "bcb47e52-ac4c-401d-a77d-e9b6d581c58d",
   "metadata": {},
   "outputs": [
    {
     "name": "stdout",
     "output_type": "stream",
     "text": [
      "2\n"
     ]
    }
   ],
   "source": [
    "def find_first_missing_positive(nums):\n",
    "    n = len(nums)\n",
    "\n",
    "    # Step 1: Move all positive integers to the left side of the list\n",
    "    j = 0\n",
    "    for i in range(n):\n",
    "        if nums[i] > 0:\n",
    "            nums[i], nums[j] = nums[j], nums[i]\n",
    "            j += 1\n",
    "\n",
    "    # Step 2: Mark elements as visited by negating the corresponding index\n",
    "    for i in range(j):\n",
    "        num = abs(nums[i])\n",
    "        if num <= j:\n",
    "            nums[num - 1] = -abs(nums[num - 1])\n",
    "\n",
    "    # Step 3: Find the first positive number\n",
    "    for i in range(j):\n",
    "        if nums[i] > 0:\n",
    "            return i + 1\n",
    "\n",
    "    # If all positive numbers are present, the missing number is j + 1\n",
    "    return j + 1\n",
    "\n",
    "# Example usage\n",
    "nums = [3, 4, -1, 1]\n",
    "result = find_first_missing_positive(nums)\n",
    "print(result)\n"
   ]
  },
  {
   "cell_type": "code",
   "execution_count": null,
   "id": "9d8266d9-fb41-408d-bfcb-bfc6cb05e883",
   "metadata": {},
   "outputs": [],
   "source": []
  }
 ],
 "metadata": {
  "kernelspec": {
   "display_name": "Python 3 (ipykernel)",
   "language": "python",
   "name": "python3"
  },
  "language_info": {
   "codemirror_mode": {
    "name": "ipython",
    "version": 3
   },
   "file_extension": ".py",
   "mimetype": "text/x-python",
   "name": "python",
   "nbconvert_exporter": "python",
   "pygments_lexer": "ipython3",
   "version": "3.10.8"
  }
 },
 "nbformat": 4,
 "nbformat_minor": 5
}
